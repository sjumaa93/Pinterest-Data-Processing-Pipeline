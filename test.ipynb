{
 "cells": [
  {
   "cell_type": "code",
   "execution_count": 3,
   "metadata": {},
   "outputs": [],
   "source": [
    "import boto3\n",
    "s3 = boto3.resource('s3')\n",
    "s3.meta.client.upload_file('./test.py','pinterest-data-bucket','testfile.py')"
   ]
  },
  {
   "cell_type": "code",
   "execution_count": 1,
   "metadata": {},
   "outputs": [
    {
     "ename": "ValueError",
     "evalue": "Couldn't find Spark, make sure SPARK_HOME env is set or Spark is in an expected location (e.g. from homebrew installation).",
     "output_type": "error",
     "traceback": [
      "\u001b[0;31m---------------------------------------------------------------------------\u001b[0m",
      "\u001b[0;31mValueError\u001b[0m                                Traceback (most recent call last)",
      "\u001b[1;32m/Users/saifjumaa/Desktop/Pinterest_App/Pinterest-Data-Processing-Pipeline/test.ipynb Cell 2'\u001b[0m in \u001b[0;36m<cell line: 3>\u001b[0;34m()\u001b[0m\n\u001b[1;32m      <a href='vscode-notebook-cell:/Users/saifjumaa/Desktop/Pinterest_App/Pinterest-Data-Processing-Pipeline/test.ipynb#ch0000001?line=0'>1</a>\u001b[0m \u001b[39mimport\u001b[39;00m \u001b[39mfindspark\u001b[39;00m\n\u001b[0;32m----> <a href='vscode-notebook-cell:/Users/saifjumaa/Desktop/Pinterest_App/Pinterest-Data-Processing-Pipeline/test.ipynb#ch0000001?line=2'>3</a>\u001b[0m findspark\u001b[39m.\u001b[39;49minit()\n",
      "File \u001b[0;32m~/miniforge3/envs/dcp/lib/python3.10/site-packages/findspark.py:143\u001b[0m, in \u001b[0;36minit\u001b[0;34m(spark_home, python_path, edit_rc, edit_profile)\u001b[0m\n\u001b[1;32m    121\u001b[0m \u001b[39m\"\"\"Make pyspark importable.\u001b[39;00m\n\u001b[1;32m    122\u001b[0m \n\u001b[1;32m    123\u001b[0m \u001b[39mSets environment variables and adds dependencies to sys.path.\u001b[39;00m\n\u001b[0;32m   (...)\u001b[0m\n\u001b[1;32m    139\u001b[0m \u001b[39m    configure and import pyspark.\u001b[39;00m\n\u001b[1;32m    140\u001b[0m \u001b[39m\"\"\"\u001b[39;00m\n\u001b[1;32m    142\u001b[0m \u001b[39mif\u001b[39;00m \u001b[39mnot\u001b[39;00m spark_home:\n\u001b[0;32m--> 143\u001b[0m     spark_home \u001b[39m=\u001b[39m find()\n\u001b[1;32m    145\u001b[0m \u001b[39mif\u001b[39;00m \u001b[39mnot\u001b[39;00m python_path:\n\u001b[1;32m    146\u001b[0m     python_path \u001b[39m=\u001b[39m os\u001b[39m.\u001b[39menviron\u001b[39m.\u001b[39mget(\u001b[39m\"\u001b[39m\u001b[39mPYSPARK_PYTHON\u001b[39m\u001b[39m\"\u001b[39m, sys\u001b[39m.\u001b[39mexecutable)\n",
      "File \u001b[0;32m~/miniforge3/envs/dcp/lib/python3.10/site-packages/findspark.py:46\u001b[0m, in \u001b[0;36mfind\u001b[0;34m()\u001b[0m\n\u001b[1;32m     43\u001b[0m         spark_home \u001b[39m=\u001b[39m os\u001b[39m.\u001b[39mpath\u001b[39m.\u001b[39mdirname(pyspark\u001b[39m.\u001b[39m\u001b[39m__file__\u001b[39m)\n\u001b[1;32m     45\u001b[0m \u001b[39mif\u001b[39;00m \u001b[39mnot\u001b[39;00m spark_home:\n\u001b[0;32m---> 46\u001b[0m     \u001b[39mraise\u001b[39;00m \u001b[39mValueError\u001b[39;00m(\n\u001b[1;32m     47\u001b[0m         \u001b[39m\"\u001b[39m\u001b[39mCouldn\u001b[39m\u001b[39m'\u001b[39m\u001b[39mt find Spark, make sure SPARK_HOME env is set\u001b[39m\u001b[39m\"\u001b[39m\n\u001b[1;32m     48\u001b[0m         \u001b[39m\"\u001b[39m\u001b[39m or Spark is in an expected location (e.g. from homebrew installation).\u001b[39m\u001b[39m\"\u001b[39m\n\u001b[1;32m     49\u001b[0m     )\n\u001b[1;32m     51\u001b[0m \u001b[39mreturn\u001b[39;00m spark_home\n",
      "\u001b[0;31mValueError\u001b[0m: Couldn't find Spark, make sure SPARK_HOME env is set or Spark is in an expected location (e.g. from homebrew installation)."
     ]
    }
   ],
   "source": [
    "import findspark\n",
    "\n",
    "findspark.init()"
   ]
  }
 ],
 "metadata": {
  "kernelspec": {
   "display_name": "Python 3.10.2 ('dcp')",
   "language": "python",
   "name": "python3"
  },
  "language_info": {
   "codemirror_mode": {
    "name": "ipython",
    "version": 3
   },
   "file_extension": ".py",
   "mimetype": "text/x-python",
   "name": "python",
   "nbconvert_exporter": "python",
   "pygments_lexer": "ipython3",
   "version": "3.10.2"
  },
  "orig_nbformat": 4,
  "vscode": {
   "interpreter": {
    "hash": "94e4e8b2c9b32864220700500712c656804c3b0ff3a960dfb883166e4bc2b064"
   }
  }
 },
 "nbformat": 4,
 "nbformat_minor": 2
}
